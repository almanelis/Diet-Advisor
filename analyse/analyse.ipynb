{
 "cells": [
  {
   "cell_type": "markdown",
   "metadata": {},
   "source": [
    "# Анализ соответсвия строк из чеков и справочника"
   ]
  },
  {
   "cell_type": "code",
   "execution_count": 59,
   "metadata": {},
   "outputs": [],
   "source": [
    "import os\n",
    "import json\n",
    "from pprint import pprint\n",
    "\n",
    "import pandas as pd\n",
    "import openpyxl\n",
    "import jellyfish as jf"
   ]
  },
  {
   "cell_type": "markdown",
   "metadata": {},
   "source": [
    "## Загрузка таблицы нутриентов"
   ]
  },
  {
   "cell_type": "code",
   "execution_count": 13,
   "metadata": {},
   "outputs": [
    {
     "data": {
      "text/html": [
       "<div>\n",
       "<style scoped>\n",
       "    .dataframe tbody tr th:only-of-type {\n",
       "        vertical-align: middle;\n",
       "    }\n",
       "\n",
       "    .dataframe tbody tr th {\n",
       "        vertical-align: top;\n",
       "    }\n",
       "\n",
       "    .dataframe thead th {\n",
       "        text-align: right;\n",
       "    }\n",
       "</style>\n",
       "<table border=\"1\" class=\"dataframe\">\n",
       "  <thead>\n",
       "    <tr style=\"text-align: right;\">\n",
       "      <th></th>\n",
       "      <th>Наименование</th>\n",
       "    </tr>\n",
       "  </thead>\n",
       "  <tbody>\n",
       "    <tr>\n",
       "      <th>2</th>\n",
       "      <td>Абрикос консерв.</td>\n",
       "    </tr>\n",
       "    <tr>\n",
       "      <th>3</th>\n",
       "      <td>Абрикос сушёный</td>\n",
       "    </tr>\n",
       "    <tr>\n",
       "      <th>4</th>\n",
       "      <td>Абрикос сырой</td>\n",
       "    </tr>\n",
       "    <tr>\n",
       "      <th>5</th>\n",
       "      <td>Абрикосовых косточек масло неизв.</td>\n",
       "    </tr>\n",
       "    <tr>\n",
       "      <th>6</th>\n",
       "      <td>Авокадо масло неизв.</td>\n",
       "    </tr>\n",
       "    <tr>\n",
       "      <th>...</th>\n",
       "      <td>...</td>\n",
       "    </tr>\n",
       "    <tr>\n",
       "      <th>553</th>\n",
       "      <td>Ячмень мука</td>\n",
       "    </tr>\n",
       "    <tr>\n",
       "      <th>554</th>\n",
       "      <td>Ячмень неочищ.</td>\n",
       "    </tr>\n",
       "    <tr>\n",
       "      <th>555</th>\n",
       "      <td>Ячмень очищ., варёный</td>\n",
       "    </tr>\n",
       "    <tr>\n",
       "      <th>556</th>\n",
       "      <td>Ячмень очищ., сырой</td>\n",
       "    </tr>\n",
       "    <tr>\n",
       "      <th>557</th>\n",
       "      <td>Ячмень солодовая мука</td>\n",
       "    </tr>\n",
       "  </tbody>\n",
       "</table>\n",
       "<p>556 rows × 1 columns</p>\n",
       "</div>"
      ],
      "text/plain": [
       "                          Наименование\n",
       "2                     Абрикос консерв.\n",
       "3                      Абрикос сушёный\n",
       "4                        Абрикос сырой\n",
       "5    Абрикосовых косточек масло неизв.\n",
       "6                 Авокадо масло неизв.\n",
       "..                                 ...\n",
       "553                        Ячмень мука\n",
       "554                     Ячмень неочищ.\n",
       "555              Ячмень очищ., варёный\n",
       "556                Ячмень очищ., сырой\n",
       "557              Ячмень солодовая мука\n",
       "\n",
       "[556 rows x 1 columns]"
      ]
     },
     "execution_count": 13,
     "metadata": {},
     "output_type": "execute_result"
    }
   ],
   "source": [
    "nutrient_table = pd.read_excel('FoodNutrients_все.xlsx', sheet_name=0, usecols='A')\n",
    "nutrient_table = nutrient_table[2:]\n",
    "nutrient_table"
   ]
  },
  {
   "cell_type": "code",
   "execution_count": 55,
   "metadata": {},
   "outputs": [
    {
     "data": {
      "text/plain": [
       "['MUSLER Батончик натур клюква виш мед30г фл/п(',\n",
       " 'БИОКЕЙ Батончик с клубник и цельным злаками 2',\n",
       " 'Услуги доставки',\n",
       " 'Пульт для Philips 2422 549 90467, YKF309-001 от Huayu',\n",
       " 'К.Ц.Спагет.в/с гр.В 400г Экстра М',\n",
       " 'РОЛЛТОН ВБП курица 60г уп.100шт МАРЕВЕН',\n",
       " 'TRIOL Наб.игр.ЗАБАВ.д/кош. WEN.X.H.F.T.C',\n",
       " 'Снэки ТРУБ.хр.со вк.сг.мол.400г ЭССЕН ПР',\n",
       " 'LAYS Чипсы вк.мол.зел.лука 140г ФРИТО ЛЕ',\n",
       " 'GAMMA Щетка овал.мал.125х80мм ЗООСЕРВИС',\n",
       " '*ЕГОР.МК Сел.ПО-ЦАР.чес.в/м 180г РУСРЫБА',\n",
       " '*ДОШ.Лапша КВИСТИ вк.кур.70г ДОШИРАК КОЯ',\n",
       " 'TRIOL Удочка-драз.МЫШКА WEN.X.H.F.T.CO',\n",
       " 'ВКУСНЯЕВ Мол.паст.2,5% п/э 800г АЛАБУГА',\n",
       " 'ЧУДО Йогурт вк.клуб-зем.2% 290г ВБД',\n",
       " 'ЧУДО Йогурт вк.клуб-зем.2% 290г ВБД',\n",
       " 'LIBER.Пакеты д/мус.с зат.15х35л БИОСФЕРА',\n",
       " 'СЕЛЯН.Крупа греч.ядр.б/раз.400г .',\n",
       " '*CAMAY Гель BOT.ЦВ.ГР.д/д 250мл ЮНИЛЕВЕР',\n",
       " 'МАР.Асс.Ф.М.ф-к сел.м.кап.160г МАРТИ',\n",
       " 'КР.Ц.Пр.колб.пл.копч.с сыр.400г']"
      ]
     },
     "execution_count": 55,
     "metadata": {},
     "output_type": "execute_result"
    }
   ],
   "source": [
    "JSON_DIR_PATH = '../test_data/'\n",
    "\n",
    "\n",
    "def load_json_from_directory(dir_path: os.path) -> list[any]:\n",
    "    json_file_array = []\n",
    "    file_list = os.listdir(dir_path)\n",
    "    for file_name in file_list:\n",
    "        with open(dir_path+file_name, encoding='utf-8') as f:\n",
    "            check = json.load(f)\n",
    "        json_file_array.append(check)\n",
    "    return(json_file_array)\n",
    "\n",
    "\n",
    "def products_from_json_array(json_array) -> list[str]:\n",
    "    products_list = []\n",
    "    for receipt in json_array:\n",
    "        for name in receipt[0]['ticket']['document']['receipt']['items']:\n",
    "            products_list.append(name['name'])\n",
    "    return products_list\n",
    "\n",
    "\n",
    "json_array = load_json_from_directory(JSON_DIR_PATH)\n",
    "product_list = products_from_json_array(json_array)\n",
    "product_list"
   ]
  },
  {
   "cell_type": "markdown",
   "metadata": {},
   "source": [
    "## Здесь тесты"
   ]
  },
  {
   "cell_type": "code",
   "execution_count": 80,
   "metadata": {},
   "outputs": [
    {
     "data": {
      "text/plain": [
       "31"
      ]
     },
     "execution_count": 80,
     "metadata": {},
     "output_type": "execute_result"
    }
   ],
   "source": [
    "test_str = 'ЧУДО Йогурт вк.клуб-зем.2% 290г ВБД'\n",
    "jf.levenshtein_distance(test_str, nutrient_table['Наименование'][2])"
   ]
  }
 ],
 "metadata": {
  "kernelspec": {
   "display_name": "venv",
   "language": "python",
   "name": "python3"
  },
  "language_info": {
   "codemirror_mode": {
    "name": "ipython",
    "version": 3
   },
   "file_extension": ".py",
   "mimetype": "text/x-python",
   "name": "python",
   "nbconvert_exporter": "python",
   "pygments_lexer": "ipython3",
   "version": "3.12.2"
  }
 },
 "nbformat": 4,
 "nbformat_minor": 2
}
